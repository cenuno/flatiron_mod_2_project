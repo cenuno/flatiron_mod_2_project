{
 "cells": [
  {
   "cell_type": "markdown",
   "metadata": {},
   "source": [
    "# Business Understanding\n",
    "\n",
    "# Data Understanding"
   ]
  },
  {
   "cell_type": "markdown",
   "metadata": {},
   "source": [
    "## Hypothesis Test 1\n",
    "\n",
    "### Question\n",
    "\n",
    "Is there a statistically significant difference in the percentage of A's given if a class starts before noon or after noon?\n",
    "\n",
    "### Hypotheses\n",
    "\n",
    "Null Hypothesis: There is no significant difference in the mean percentage of A's in the morning classes and afternoon classes.\n",
    "\n",
    "Alternate Hypothesis: There is a significant difference in the mean percentage of A's in the morning and afternoon classes.\n",
    "\n",
    "### Methodology\n",
    "We select an alpha value of 0.05.\n",
    "\n",
    "We will perform a two-tail, two-sample t-test on the data. If we find significance. We will perform a one-tail, two-sample t-test to look at directionality.\n",
    "\n",
    "Class start and end time is listed in minutes from midnight."
   ]
  },
  {
   "cell_type": "markdown",
   "metadata": {},
   "source": [
    "### Import Necessary Libraries"
   ]
  },
  {
   "cell_type": "code",
   "execution_count": 1,
   "metadata": {},
   "outputs": [],
   "source": [
    "import psycopg2\n",
    "import pandas as pd\n",
    "import matplotlib.pyplot as plt\n",
    "%matplotlib inline\n",
    "import seaborn as sns\n",
    "plt.style.use('seaborn')\n",
    "import numpy as np\n",
    "import scipy.stats as stats\n",
    "\n",
    "np.random.seed(2019)"
   ]
  },
  {
   "cell_type": "markdown",
   "metadata": {},
   "source": [
    "# Data Preparation\n",
    "\n",
    "## Connect to UW- Madison PostgreSQL database"
   ]
  },
  {
   "cell_type": "code",
   "execution_count": 2,
   "metadata": {},
   "outputs": [],
   "source": [
    "conn = psycopg2.connect(\"host=localhost,dbname=postgres,user=postgres\")\n",
    "\n",
    "cur = conn.cursor()"
   ]
  },
  {
   "cell_type": "markdown",
   "metadata": {},
   "source": [
    "We are interested in the percentage of A's given in a specific course and section. While there are other grades such as \"credit\" and \"incomplete\", these grades are not given a GPA value and we will therefore ignore them and only use A-F grades. We also want to collect the start times of the classes. Finally, we want the section type as we want to make sure that we measure Lecture and Seminar classes as opposed to Independent/Field Studies and Labs/Discussions (which often contribute to a lecture class' grade)."
   ]
  },
  {
   "cell_type": "code",
   "execution_count": 3,
   "metadata": {},
   "outputs": [],
   "source": [
    "group_and_as = \"\"\"\n",
    "SELECT \n",
    "  grade.a_count\n",
    ", grade.ab_count\n",
    ", grade.b_count\n",
    ", grade.bc_count\n",
    ", grade.c_count\n",
    ", grade.d_count\n",
    ", grade.f_count\n",
    ", sched.start_time\n",
    ", sect.section_type\n",
    ", grade.course_offering_uuid\n",
    ", grade.section_number\n",
    "FROM \n",
    "  sections sect\n",
    "INNER JOIN \n",
    "  schedules sched \n",
    "ON \n",
    "  sched.uuid = sect.schedule_uuid\n",
    "INNER JOIN \n",
    "  grade_distributions grade \n",
    "ON \n",
    "  sect.number = grade.section_number \n",
    "AND \n",
    "  sect.course_offering_uuid = grade.course_offering_uuid;\n",
    "\"\"\""
   ]
  },
  {
   "cell_type": "code",
   "execution_count": 4,
   "metadata": {},
   "outputs": [
    {
     "data": {
      "text/html": [
       "<div>\n",
       "<style scoped>\n",
       "    .dataframe tbody tr th:only-of-type {\n",
       "        vertical-align: middle;\n",
       "    }\n",
       "\n",
       "    .dataframe tbody tr th {\n",
       "        vertical-align: top;\n",
       "    }\n",
       "\n",
       "    .dataframe thead th {\n",
       "        text-align: right;\n",
       "    }\n",
       "</style>\n",
       "<table border=\"1\" class=\"dataframe\">\n",
       "  <thead>\n",
       "    <tr style=\"text-align: right;\">\n",
       "      <th></th>\n",
       "      <th>a_count</th>\n",
       "      <th>ab_count</th>\n",
       "      <th>b_count</th>\n",
       "      <th>bc_count</th>\n",
       "      <th>c_count</th>\n",
       "      <th>d_count</th>\n",
       "      <th>f_count</th>\n",
       "      <th>start_time</th>\n",
       "      <th>section_type</th>\n",
       "      <th>course_offering_uuid</th>\n",
       "      <th>section_number</th>\n",
       "      <th>total_count</th>\n",
       "    </tr>\n",
       "  </thead>\n",
       "  <tbody>\n",
       "    <tr>\n",
       "      <th>0</th>\n",
       "      <td>0</td>\n",
       "      <td>0</td>\n",
       "      <td>0</td>\n",
       "      <td>0</td>\n",
       "      <td>0</td>\n",
       "      <td>0</td>\n",
       "      <td>0</td>\n",
       "      <td>-1</td>\n",
       "      <td>FLD</td>\n",
       "      <td>eb6254ad-776c-3830-9a85-0684665c1457</td>\n",
       "      <td>14</td>\n",
       "      <td>0</td>\n",
       "    </tr>\n",
       "    <tr>\n",
       "      <th>1</th>\n",
       "      <td>0</td>\n",
       "      <td>0</td>\n",
       "      <td>0</td>\n",
       "      <td>0</td>\n",
       "      <td>0</td>\n",
       "      <td>0</td>\n",
       "      <td>0</td>\n",
       "      <td>-1</td>\n",
       "      <td>FLD</td>\n",
       "      <td>94d362f0-53b2-33d0-85ca-4770d1371c97</td>\n",
       "      <td>10</td>\n",
       "      <td>0</td>\n",
       "    </tr>\n",
       "    <tr>\n",
       "      <th>2</th>\n",
       "      <td>35</td>\n",
       "      <td>0</td>\n",
       "      <td>1</td>\n",
       "      <td>0</td>\n",
       "      <td>0</td>\n",
       "      <td>0</td>\n",
       "      <td>0</td>\n",
       "      <td>960</td>\n",
       "      <td>LAB</td>\n",
       "      <td>e1a0631e-6efc-3021-a20d-a4a92081b754</td>\n",
       "      <td>1</td>\n",
       "      <td>36</td>\n",
       "    </tr>\n",
       "    <tr>\n",
       "      <th>3</th>\n",
       "      <td>39</td>\n",
       "      <td>1</td>\n",
       "      <td>0</td>\n",
       "      <td>1</td>\n",
       "      <td>0</td>\n",
       "      <td>0</td>\n",
       "      <td>0</td>\n",
       "      <td>725</td>\n",
       "      <td>LAB</td>\n",
       "      <td>c939dd5e-43ba-3266-8f74-573f629de75b</td>\n",
       "      <td>4</td>\n",
       "      <td>41</td>\n",
       "    </tr>\n",
       "    <tr>\n",
       "      <th>4</th>\n",
       "      <td>32</td>\n",
       "      <td>2</td>\n",
       "      <td>1</td>\n",
       "      <td>1</td>\n",
       "      <td>0</td>\n",
       "      <td>0</td>\n",
       "      <td>0</td>\n",
       "      <td>595</td>\n",
       "      <td>LAB</td>\n",
       "      <td>5c0652d8-d118-3652-8cbe-16b4a589aa03</td>\n",
       "      <td>2</td>\n",
       "      <td>36</td>\n",
       "    </tr>\n",
       "  </tbody>\n",
       "</table>\n",
       "</div>"
      ],
      "text/plain": [
       "   a_count  ab_count  b_count  bc_count  c_count  d_count  f_count  \\\n",
       "0        0         0        0         0        0        0        0   \n",
       "1        0         0        0         0        0        0        0   \n",
       "2       35         0        1         0        0        0        0   \n",
       "3       39         1        0         1        0        0        0   \n",
       "4       32         2        1         1        0        0        0   \n",
       "\n",
       "   start_time section_type                  course_offering_uuid  \\\n",
       "0          -1          FLD  eb6254ad-776c-3830-9a85-0684665c1457   \n",
       "1          -1          FLD  94d362f0-53b2-33d0-85ca-4770d1371c97   \n",
       "2         960          LAB  e1a0631e-6efc-3021-a20d-a4a92081b754   \n",
       "3         725          LAB  c939dd5e-43ba-3266-8f74-573f629de75b   \n",
       "4         595          LAB  5c0652d8-d118-3652-8cbe-16b4a589aa03   \n",
       "\n",
       "   section_number  total_count  \n",
       "0              14            0  \n",
       "1              10            0  \n",
       "2               1           36  \n",
       "3               4           41  \n",
       "4               2           36  "
      ]
     },
     "execution_count": 4,
     "metadata": {},
     "output_type": "execute_result"
    }
   ],
   "source": [
    "cur.execute(group_and_as)\n",
    "df = pd.DataFrame(cur.fetchall())\n",
    "df.columns = [i[0] for i in cur.description]\n",
    "df['total_count'] = (df['a_count'] + df['ab_count'] + df['b_count'] + df['bc_count'] \n",
    "                     + df['c_count'] + df['d_count'] + df['f_count'])\n",
    "df.head()"
   ]
  },
  {
   "cell_type": "code",
   "execution_count": 5,
   "metadata": {},
   "outputs": [
    {
     "name": "stdout",
     "output_type": "stream",
     "text": [
      "<class 'pandas.core.frame.DataFrame'>\n",
      "RangeIndex: 217399 entries, 0 to 217398\n",
      "Data columns (total 12 columns):\n",
      "a_count                 217399 non-null int64\n",
      "ab_count                217399 non-null int64\n",
      "b_count                 217399 non-null int64\n",
      "bc_count                217399 non-null int64\n",
      "c_count                 217399 non-null int64\n",
      "d_count                 217399 non-null int64\n",
      "f_count                 217399 non-null int64\n",
      "start_time              217399 non-null int64\n",
      "section_type            217399 non-null object\n",
      "course_offering_uuid    217399 non-null object\n",
      "section_number          217399 non-null int64\n",
      "total_count             217399 non-null int64\n",
      "dtypes: int64(10), object(2)\n",
      "memory usage: 19.9+ MB\n"
     ]
    }
   ],
   "source": [
    "df.info()"
   ]
  },
  {
   "cell_type": "markdown",
   "metadata": {},
   "source": [
    "There are 217,399 individual courses and section combinations."
   ]
  },
  {
   "cell_type": "code",
   "execution_count": 6,
   "metadata": {},
   "outputs": [
    {
     "data": {
      "text/html": [
       "<div>\n",
       "<style scoped>\n",
       "    .dataframe tbody tr th:only-of-type {\n",
       "        vertical-align: middle;\n",
       "    }\n",
       "\n",
       "    .dataframe tbody tr th {\n",
       "        vertical-align: top;\n",
       "    }\n",
       "\n",
       "    .dataframe thead th {\n",
       "        text-align: right;\n",
       "    }\n",
       "</style>\n",
       "<table border=\"1\" class=\"dataframe\">\n",
       "  <thead>\n",
       "    <tr style=\"text-align: right;\">\n",
       "      <th></th>\n",
       "      <th>a_count</th>\n",
       "      <th>ab_count</th>\n",
       "      <th>b_count</th>\n",
       "      <th>bc_count</th>\n",
       "      <th>c_count</th>\n",
       "      <th>d_count</th>\n",
       "      <th>f_count</th>\n",
       "      <th>start_time</th>\n",
       "      <th>section_type</th>\n",
       "      <th>course_offering_uuid</th>\n",
       "      <th>section_number</th>\n",
       "      <th>total_count</th>\n",
       "    </tr>\n",
       "  </thead>\n",
       "  <tbody>\n",
       "    <tr>\n",
       "      <th>0</th>\n",
       "      <td>0</td>\n",
       "      <td>0</td>\n",
       "      <td>0</td>\n",
       "      <td>0</td>\n",
       "      <td>0</td>\n",
       "      <td>0</td>\n",
       "      <td>0</td>\n",
       "      <td>-1</td>\n",
       "      <td>FLD</td>\n",
       "      <td>eb6254ad-776c-3830-9a85-0684665c1457</td>\n",
       "      <td>14</td>\n",
       "      <td>0</td>\n",
       "    </tr>\n",
       "    <tr>\n",
       "      <th>117776</th>\n",
       "      <td>0</td>\n",
       "      <td>0</td>\n",
       "      <td>0</td>\n",
       "      <td>0</td>\n",
       "      <td>0</td>\n",
       "      <td>0</td>\n",
       "      <td>0</td>\n",
       "      <td>-1</td>\n",
       "      <td>IND</td>\n",
       "      <td>872a8a2c-dcac-37cb-8a7a-be16263167be</td>\n",
       "      <td>21</td>\n",
       "      <td>0</td>\n",
       "    </tr>\n",
       "    <tr>\n",
       "      <th>117775</th>\n",
       "      <td>0</td>\n",
       "      <td>0</td>\n",
       "      <td>0</td>\n",
       "      <td>0</td>\n",
       "      <td>0</td>\n",
       "      <td>0</td>\n",
       "      <td>0</td>\n",
       "      <td>-1</td>\n",
       "      <td>IND</td>\n",
       "      <td>872a8a2c-dcac-37cb-8a7a-be16263167be</td>\n",
       "      <td>30</td>\n",
       "      <td>0</td>\n",
       "    </tr>\n",
       "    <tr>\n",
       "      <th>117774</th>\n",
       "      <td>0</td>\n",
       "      <td>0</td>\n",
       "      <td>0</td>\n",
       "      <td>0</td>\n",
       "      <td>0</td>\n",
       "      <td>0</td>\n",
       "      <td>0</td>\n",
       "      <td>-1</td>\n",
       "      <td>IND</td>\n",
       "      <td>872a8a2c-dcac-37cb-8a7a-be16263167be</td>\n",
       "      <td>97</td>\n",
       "      <td>0</td>\n",
       "    </tr>\n",
       "    <tr>\n",
       "      <th>117773</th>\n",
       "      <td>0</td>\n",
       "      <td>0</td>\n",
       "      <td>0</td>\n",
       "      <td>0</td>\n",
       "      <td>0</td>\n",
       "      <td>0</td>\n",
       "      <td>0</td>\n",
       "      <td>-1</td>\n",
       "      <td>IND</td>\n",
       "      <td>751a4179-840d-3947-8aff-29f274ec06cc</td>\n",
       "      <td>62</td>\n",
       "      <td>0</td>\n",
       "    </tr>\n",
       "  </tbody>\n",
       "</table>\n",
       "</div>"
      ],
      "text/plain": [
       "        a_count  ab_count  b_count  bc_count  c_count  d_count  f_count  \\\n",
       "0             0         0        0         0        0        0        0   \n",
       "117776        0         0        0         0        0        0        0   \n",
       "117775        0         0        0         0        0        0        0   \n",
       "117774        0         0        0         0        0        0        0   \n",
       "117773        0         0        0         0        0        0        0   \n",
       "\n",
       "        start_time section_type                  course_offering_uuid  \\\n",
       "0               -1          FLD  eb6254ad-776c-3830-9a85-0684665c1457   \n",
       "117776          -1          IND  872a8a2c-dcac-37cb-8a7a-be16263167be   \n",
       "117775          -1          IND  872a8a2c-dcac-37cb-8a7a-be16263167be   \n",
       "117774          -1          IND  872a8a2c-dcac-37cb-8a7a-be16263167be   \n",
       "117773          -1          IND  751a4179-840d-3947-8aff-29f274ec06cc   \n",
       "\n",
       "        section_number  total_count  \n",
       "0                   14            0  \n",
       "117776              21            0  \n",
       "117775              30            0  \n",
       "117774              97            0  \n",
       "117773              62            0  "
      ]
     },
     "execution_count": 6,
     "metadata": {},
     "output_type": "execute_result"
    }
   ],
   "source": [
    "df.sort_values(by='start_time').head()"
   ]
  },
  {
   "cell_type": "code",
   "execution_count": 7,
   "metadata": {},
   "outputs": [
    {
     "data": {
      "text/plain": [
       "IND    81726\n",
       "LEC     4405\n",
       "FLD     3691\n",
       "SEM     1344\n",
       "LAB     1331\n",
       "DIS       19\n",
       "Name: section_type, dtype: int64"
      ]
     },
     "execution_count": 7,
     "metadata": {},
     "output_type": "execute_result"
    }
   ],
   "source": [
    "df.loc[df['start_time'] == -1, 'section_type'].value_counts()"
   ]
  },
  {
   "cell_type": "markdown",
   "metadata": {},
   "source": [
    "All the independent studies are -1. As all these values are no use to our test (because we are interested in start time) we will drop all start_times of -1. We will also cut of irregular times (classes that start before 6AM) because these are potentially errors during input. We also want to drop any class type that is not lecture or seminar."
   ]
  },
  {
   "cell_type": "code",
   "execution_count": 8,
   "metadata": {},
   "outputs": [
    {
     "name": "stdout",
     "output_type": "stream",
     "text": [
      "<class 'pandas.core.frame.DataFrame'>\n",
      "Int64Index: 97441 entries, 35 to 217233\n",
      "Data columns (total 12 columns):\n",
      "a_count                 97441 non-null int64\n",
      "ab_count                97441 non-null int64\n",
      "b_count                 97441 non-null int64\n",
      "bc_count                97441 non-null int64\n",
      "c_count                 97441 non-null int64\n",
      "d_count                 97441 non-null int64\n",
      "f_count                 97441 non-null int64\n",
      "start_time              97441 non-null int64\n",
      "section_type            97441 non-null object\n",
      "course_offering_uuid    97441 non-null object\n",
      "section_number          97441 non-null int64\n",
      "total_count             97441 non-null int64\n",
      "dtypes: int64(10), object(2)\n",
      "memory usage: 9.7+ MB\n"
     ]
    }
   ],
   "source": [
    "df = df[df['start_time'] >= 360]\n",
    "df = df[df['section_type'] != 'IND']\n",
    "df = df[df['section_type'] != 'FLD']\n",
    "df = df[df['section_type'] != 'LAB']\n",
    "df = df[df['section_type'] != 'DIS']\n",
    "df.info()"
   ]
  },
  {
   "cell_type": "markdown",
   "metadata": {},
   "source": [
    "We now have 97,441 entries after dropping observations not relevant to our question. We then want to confirm that every class has students."
   ]
  },
  {
   "cell_type": "code",
   "execution_count": 9,
   "metadata": {},
   "outputs": [
    {
     "data": {
      "text/html": [
       "<div>\n",
       "<style scoped>\n",
       "    .dataframe tbody tr th:only-of-type {\n",
       "        vertical-align: middle;\n",
       "    }\n",
       "\n",
       "    .dataframe tbody tr th {\n",
       "        vertical-align: top;\n",
       "    }\n",
       "\n",
       "    .dataframe thead th {\n",
       "        text-align: right;\n",
       "    }\n",
       "</style>\n",
       "<table border=\"1\" class=\"dataframe\">\n",
       "  <thead>\n",
       "    <tr style=\"text-align: right;\">\n",
       "      <th></th>\n",
       "      <th>a_count</th>\n",
       "      <th>ab_count</th>\n",
       "      <th>b_count</th>\n",
       "      <th>bc_count</th>\n",
       "      <th>c_count</th>\n",
       "      <th>d_count</th>\n",
       "      <th>f_count</th>\n",
       "      <th>start_time</th>\n",
       "      <th>section_type</th>\n",
       "      <th>course_offering_uuid</th>\n",
       "      <th>section_number</th>\n",
       "      <th>total_count</th>\n",
       "    </tr>\n",
       "  </thead>\n",
       "  <tbody>\n",
       "    <tr>\n",
       "      <th>169585</th>\n",
       "      <td>0</td>\n",
       "      <td>0</td>\n",
       "      <td>0</td>\n",
       "      <td>0</td>\n",
       "      <td>0</td>\n",
       "      <td>0</td>\n",
       "      <td>0</td>\n",
       "      <td>780</td>\n",
       "      <td>LEC</td>\n",
       "      <td>bb47c545-44b7-3a35-9810-5d621db8057b</td>\n",
       "      <td>29</td>\n",
       "      <td>0</td>\n",
       "    </tr>\n",
       "    <tr>\n",
       "      <th>39641</th>\n",
       "      <td>0</td>\n",
       "      <td>0</td>\n",
       "      <td>0</td>\n",
       "      <td>0</td>\n",
       "      <td>0</td>\n",
       "      <td>0</td>\n",
       "      <td>0</td>\n",
       "      <td>780</td>\n",
       "      <td>LEC</td>\n",
       "      <td>9a99e814-e7ec-3a06-a42a-eeaaf336d543</td>\n",
       "      <td>6</td>\n",
       "      <td>0</td>\n",
       "    </tr>\n",
       "    <tr>\n",
       "      <th>39640</th>\n",
       "      <td>0</td>\n",
       "      <td>0</td>\n",
       "      <td>0</td>\n",
       "      <td>0</td>\n",
       "      <td>0</td>\n",
       "      <td>0</td>\n",
       "      <td>0</td>\n",
       "      <td>780</td>\n",
       "      <td>LEC</td>\n",
       "      <td>27e91550-b510-3c59-b48e-92b57496b98e</td>\n",
       "      <td>4</td>\n",
       "      <td>0</td>\n",
       "    </tr>\n",
       "    <tr>\n",
       "      <th>39639</th>\n",
       "      <td>0</td>\n",
       "      <td>0</td>\n",
       "      <td>0</td>\n",
       "      <td>0</td>\n",
       "      <td>0</td>\n",
       "      <td>0</td>\n",
       "      <td>0</td>\n",
       "      <td>780</td>\n",
       "      <td>LEC</td>\n",
       "      <td>e8f080b2-ef22-3639-a4b1-7243c784c843</td>\n",
       "      <td>2</td>\n",
       "      <td>0</td>\n",
       "    </tr>\n",
       "    <tr>\n",
       "      <th>156356</th>\n",
       "      <td>0</td>\n",
       "      <td>0</td>\n",
       "      <td>0</td>\n",
       "      <td>0</td>\n",
       "      <td>0</td>\n",
       "      <td>0</td>\n",
       "      <td>0</td>\n",
       "      <td>480</td>\n",
       "      <td>SEM</td>\n",
       "      <td>fa6897f6-d432-3fae-9672-8b023b93fee6</td>\n",
       "      <td>7</td>\n",
       "      <td>0</td>\n",
       "    </tr>\n",
       "  </tbody>\n",
       "</table>\n",
       "</div>"
      ],
      "text/plain": [
       "        a_count  ab_count  b_count  bc_count  c_count  d_count  f_count  \\\n",
       "169585        0         0        0         0        0        0        0   \n",
       "39641         0         0        0         0        0        0        0   \n",
       "39640         0         0        0         0        0        0        0   \n",
       "39639         0         0        0         0        0        0        0   \n",
       "156356        0         0        0         0        0        0        0   \n",
       "\n",
       "        start_time section_type                  course_offering_uuid  \\\n",
       "169585         780          LEC  bb47c545-44b7-3a35-9810-5d621db8057b   \n",
       "39641          780          LEC  9a99e814-e7ec-3a06-a42a-eeaaf336d543   \n",
       "39640          780          LEC  27e91550-b510-3c59-b48e-92b57496b98e   \n",
       "39639          780          LEC  e8f080b2-ef22-3639-a4b1-7243c784c843   \n",
       "156356         480          SEM  fa6897f6-d432-3fae-9672-8b023b93fee6   \n",
       "\n",
       "        section_number  total_count  \n",
       "169585              29            0  \n",
       "39641                6            0  \n",
       "39640                4            0  \n",
       "39639                2            0  \n",
       "156356               7            0  "
      ]
     },
     "execution_count": 9,
     "metadata": {},
     "output_type": "execute_result"
    }
   ],
   "source": [
    "df.sort_values(by='total_count').head()"
   ]
  },
  {
   "cell_type": "markdown",
   "metadata": {},
   "source": [
    "There are still a number of classes that have no students. We want to drop these as it is not reflective of our study."
   ]
  },
  {
   "cell_type": "code",
   "execution_count": 10,
   "metadata": {},
   "outputs": [],
   "source": [
    "df = df[df['total_count'] != 0]"
   ]
  },
  {
   "cell_type": "code",
   "execution_count": 11,
   "metadata": {},
   "outputs": [
    {
     "name": "stdout",
     "output_type": "stream",
     "text": [
      "<class 'pandas.core.frame.DataFrame'>\n",
      "Int64Index: 85173 entries, 35 to 217233\n",
      "Data columns (total 12 columns):\n",
      "a_count                 85173 non-null int64\n",
      "ab_count                85173 non-null int64\n",
      "b_count                 85173 non-null int64\n",
      "bc_count                85173 non-null int64\n",
      "c_count                 85173 non-null int64\n",
      "d_count                 85173 non-null int64\n",
      "f_count                 85173 non-null int64\n",
      "start_time              85173 non-null int64\n",
      "section_type            85173 non-null object\n",
      "course_offering_uuid    85173 non-null object\n",
      "section_number          85173 non-null int64\n",
      "total_count             85173 non-null int64\n",
      "dtypes: int64(10), object(2)\n",
      "memory usage: 8.4+ MB\n"
     ]
    }
   ],
   "source": [
    "df.info()"
   ]
  },
  {
   "cell_type": "markdown",
   "metadata": {},
   "source": [
    "We now have 85,173 classes."
   ]
  },
  {
   "cell_type": "code",
   "execution_count": 12,
   "metadata": {},
   "outputs": [],
   "source": [
    "df2 = df.copy()"
   ]
  },
  {
   "cell_type": "code",
   "execution_count": 13,
   "metadata": {},
   "outputs": [],
   "source": [
    "# create ratio column\n",
    "df2['ratio_of_as'] = df['a_count'] / df['total_count']"
   ]
  },
  {
   "cell_type": "code",
   "execution_count": 14,
   "metadata": {},
   "outputs": [
    {
     "name": "stdout",
     "output_type": "stream",
     "text": [
      "<class 'pandas.core.frame.DataFrame'>\n",
      "Int64Index: 70987 entries, 35 to 217232\n",
      "Data columns (total 13 columns):\n",
      "a_count                 70987 non-null int64\n",
      "ab_count                70987 non-null int64\n",
      "b_count                 70987 non-null int64\n",
      "bc_count                70987 non-null int64\n",
      "c_count                 70987 non-null int64\n",
      "d_count                 70987 non-null int64\n",
      "f_count                 70987 non-null int64\n",
      "start_time              70987 non-null int64\n",
      "section_type            70987 non-null object\n",
      "course_offering_uuid    70987 non-null object\n",
      "section_number          70987 non-null int64\n",
      "total_count             70987 non-null int64\n",
      "ratio_of_as             70987 non-null float64\n",
      "dtypes: float64(1), int64(10), object(2)\n",
      "memory usage: 7.6+ MB\n"
     ]
    }
   ],
   "source": [
    "df2.drop_duplicates(inplace=True)\n",
    "df2.info()"
   ]
  },
  {
   "cell_type": "markdown",
   "metadata": {},
   "source": [
    "Dropping any potential duplicates reduces classes to 70,987"
   ]
  },
  {
   "cell_type": "code",
   "execution_count": 15,
   "metadata": {},
   "outputs": [
    {
     "name": "stderr",
     "output_type": "stream",
     "text": [
      "/Users/kaylischulz/anaconda3/envs/learn-env/lib/python3.6/site-packages/scipy/stats/stats.py:1713: FutureWarning: Using a non-tuple sequence for multidimensional indexing is deprecated; use `arr[tuple(seq)]` instead of `arr[seq]`. In the future this will be interpreted as an array index, `arr[np.array(seq)]`, which will result either in an error or a different result.\n",
      "  return np.add.reduce(sorted[indexer] * weights, axis=axis) / sumval\n"
     ]
    },
    {
     "data": {
      "image/png": "[encoded data removed]",
      "text/plain": [
       "<Figure size 432x432 with 3 Axes>"
      ]
     },
     "metadata": {
      "needs_background": "light"
     },
     "output_type": "display_data"
    }
   ],
   "source": [
    "sns.jointplot('start_time', 'ratio_of_as',df2);\n",
    "plt.title(\"Class Start Time and Ratio of A's\", loc='left')\n",
    "plt.show()"
   ]
  },
  {
   "cell_type": "markdown",
   "metadata": {},
   "source": [
    "The start times of classes appear to be very spread. Whereas there is much more classes that give a high proportion of A's to lower proportions of A's."
   ]
  },
  {
   "cell_type": "markdown",
   "metadata": {},
   "source": [
    "Create separate dataframes for AM and PM classes."
   ]
  },
  {
   "cell_type": "code",
   "execution_count": 16,
   "metadata": {},
   "outputs": [],
   "source": [
    "morning_df = df2.loc[df['start_time'] < 720]\n",
    "afternoon_df = df2.loc[df['start_time'] >= 720]"
   ]
  },
  {
   "cell_type": "code",
   "execution_count": 17,
   "metadata": {},
   "outputs": [
    {
     "name": "stdout",
     "output_type": "stream",
     "text": [
      "<class 'pandas.core.frame.DataFrame'>\n",
      "Int64Index: 31901 entries, 36 to 217232\n",
      "Data columns (total 13 columns):\n",
      "a_count                 31901 non-null int64\n",
      "ab_count                31901 non-null int64\n",
      "b_count                 31901 non-null int64\n",
      "bc_count                31901 non-null int64\n",
      "c_count                 31901 non-null int64\n",
      "d_count                 31901 non-null int64\n",
      "f_count                 31901 non-null int64\n",
      "start_time              31901 non-null int64\n",
      "section_type            31901 non-null object\n",
      "course_offering_uuid    31901 non-null object\n",
      "section_number          31901 non-null int64\n",
      "total_count             31901 non-null int64\n",
      "ratio_of_as             31901 non-null float64\n",
      "dtypes: float64(1), int64(10), object(2)\n",
      "memory usage: 3.4+ MB\n"
     ]
    }
   ],
   "source": [
    "morning_df.info()"
   ]
  },
  {
   "cell_type": "code",
   "execution_count": 18,
   "metadata": {},
   "outputs": [
    {
     "name": "stdout",
     "output_type": "stream",
     "text": [
      "<class 'pandas.core.frame.DataFrame'>\n",
      "Int64Index: 39086 entries, 35 to 217204\n",
      "Data columns (total 13 columns):\n",
      "a_count                 39086 non-null int64\n",
      "ab_count                39086 non-null int64\n",
      "b_count                 39086 non-null int64\n",
      "bc_count                39086 non-null int64\n",
      "c_count                 39086 non-null int64\n",
      "d_count                 39086 non-null int64\n",
      "f_count                 39086 non-null int64\n",
      "start_time              39086 non-null int64\n",
      "section_type            39086 non-null object\n",
      "course_offering_uuid    39086 non-null object\n",
      "section_number          39086 non-null int64\n",
      "total_count             39086 non-null int64\n",
      "ratio_of_as             39086 non-null float64\n",
      "dtypes: float64(1), int64(10), object(2)\n",
      "memory usage: 4.2+ MB\n"
     ]
    }
   ],
   "source": [
    "afternoon_df.info()"
   ]
  },
  {
   "cell_type": "markdown",
   "metadata": {},
   "source": [
    "There are 31,901 morning classes and 39,086 afternoon classes."
   ]
  },
  {
   "cell_type": "markdown",
   "metadata": {},
   "source": [
    "### Determine Sample Size"
   ]
  },
  {
   "cell_type": "code",
   "execution_count": 19,
   "metadata": {},
   "outputs": [],
   "source": [
    "moe = 0.1\n",
    "z = 1.96 # z value for alpha 0.05\n",
    "morn_var = np.var(morning_df['ratio_of_as'])\n",
    "morn_n = len(morning_df['ratio_of_as'])\n",
    "aft_var = np.var(afternoon_df['ratio_of_as'])\n",
    "aft_n = len(afternoon_df['ratio_of_as'])\n",
    "\n",
    "num = (morn_n - 1) * morn_var + (aft_n - 1) * aft_var\n",
    "den = morn_n + aft_n - 2\n",
    "pooled_std = np.sqrt(num/den)"
   ]
  },
  {
   "cell_type": "code",
   "execution_count": 20,
   "metadata": {},
   "outputs": [
    {
     "data": {
      "text/plain": [
       "65.23057524944512"
      ]
     },
     "execution_count": 20,
     "metadata": {},
     "output_type": "execute_result"
    }
   ],
   "source": [
    "n = 2 * (z * pooled_std / moe)**2\n",
    "n"
   ]
  },
  {
   "cell_type": "markdown",
   "metadata": {},
   "source": [
    "We will use samples from morning and afternoon of size 68."
   ]
  },
  {
   "cell_type": "code",
   "execution_count": 21,
   "metadata": {},
   "outputs": [],
   "source": [
    "morning = morning_df['ratio_of_as']\n",
    "afternoon = afternoon_df['ratio_of_as']\n",
    "\n",
    "morning_sample = np.random.choice(morning, size=66)\n",
    "afternoon_sample = np.random.choice(afternoon, size=66)"
   ]
  },
  {
   "cell_type": "code",
   "execution_count": 22,
   "metadata": {},
   "outputs": [
    {
     "data": {
      "text/plain": [
       "Ttest_indResult(statistic=-1.765404783167222, pvalue=0.07984364969272358)"
      ]
     },
     "execution_count": 22,
     "metadata": {},
     "output_type": "execute_result"
    }
   ],
   "source": [
    "stats.ttest_ind(morning_sample, afternoon_sample)"
   ]
  },
  {
   "cell_type": "markdown",
   "metadata": {},
   "source": [
    "Our p-value is about 0.127 which is greater than our halved-alpha of 0.025 (since a two-tailed test). This means that we cannot reject the null hypothesis. We cannot say that there is a statistical difference in the ratio of A's of a class depending on if the class is before or after noon. \n",
    "\n",
    "If we want to improve our schedules to increase the percentage of A's we will need to look at other factors."
   ]
  },
  {
   "cell_type": "code",
   "execution_count": null,
   "metadata": {},
   "outputs": [],
   "source": []
  }
 ],
 "metadata": {
  "kernelspec": {
   "display_name": "learn-env",
   "language": "python",
   "name": "learn-env"
  },
  "language_info": {
   "codemirror_mode": {
    "name": "ipython",
    "version": 3
   },
   "file_extension": ".py",
   "mimetype": "text/x-python",
   "name": "python",
   "nbconvert_exporter": "python",
   "pygments_lexer": "ipython3",
   "version": "3.6.6"
  }
 },
 "nbformat": 4,
 "nbformat_minor": 2
}
