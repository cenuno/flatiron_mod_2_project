{
 "cells": [
  {
   "cell_type": "markdown",
   "metadata": {},
   "source": [
    "# Effect of Class Time on Grades, For Math Classes\n",
    "\n",
    "Alexander Bailey, Kayli Leung\n",
    "\n",
    "# Methodology\n",
    "We will perform a two-tail, two-sample t-test on the data. Using [Kaggle's UW Madison Grade's Database](https://www.kaggle.com/Madgrades/uw-madison-courses#schedules.csv).\n",
    "\n",
    "## Question\n",
    "\n",
    "Is a significant difference in the percentage of A's given based on whether a class starts before noon or after noon, given that the class is a math class. \n",
    "\n",
    "## Hypotheses\n",
    "We select an alpha value of 0.05.\n",
    "\n",
    "Null Hypothesis: There is no significant difference in the mean percentage of A's in the morning classes and afternoon math classes.\n",
    "\n",
    "Alternate Hypothesis: There is a significant difference in the mean percentage of A's in the morning and afternoon math classes.\n",
    "\n",
    "Class start and end time is listed in minutes from midnight."
   ]
  },
  {
   "cell_type": "code",
   "execution_count": 1,
   "metadata": {},
   "outputs": [],
   "source": [
    "import psycopg2\n",
    "import pandas as pd\n",
    "import matplotlib.pyplot as plt\n",
    "%matplotlib inline\n",
    "import seaborn as sns\n",
    "plt.style.use('seaborn')\n",
    "import numpy as np\n",
    "import scipy.stats as stats"
   ]
  },
  {
   "cell_type": "code",
   "execution_count": 61,
   "metadata": {},
   "outputs": [],
   "source": [
    "conn = psycopg2.connect(\"host=localhost,dbname=postgres,user=postgres\")\n",
    "\n",
    "cur = conn.cursor()"
   ]
  },
  {
   "cell_type": "code",
   "execution_count": 62,
   "metadata": {},
   "outputs": [],
   "source": [
    "group_and_as = \"\"\"\n",
    "SELECT \n",
    "  grade.a_count\n",
    ", grade.ab_count\n",
    ", grade.b_count\n",
    ", grade.bc_count\n",
    ", grade.c_count\n",
    ", grade.d_count\n",
    ", grade.f_count\n",
    ", sched.start_time\n",
    ", sect.section_type\n",
    ", grade.course_offering_uuid\n",
    ", grade.section_number\n",
    ", sub.name\n",
    "FROM \n",
    "  sections sect\n",
    "INNER JOIN \n",
    "  schedules sched \n",
    "ON \n",
    "  sched.uuid = sect.schedule_uuid\n",
    "INNER JOIN \n",
    "  grade_distributions grade \n",
    "ON \n",
    "  sect.number = grade.section_number\n",
    "INNER JOIN\n",
    "  subject_memberships sub_m\n",
    "ON\n",
    "  sub_m.course_offering_uuid = sect.course_offering_uuid\n",
    "INNER JOIN\n",
    "  subjects sub\n",
    "ON\n",
    "  sub.code = sub_m.subject_code\n",
    "AND \n",
    "  sect.course_offering_uuid = grade.course_offering_uuid\n",
    "WHERE\n",
    "  sub.name = 'Mathematics';\n",
    "\"\"\""
   ]
  },
  {
   "cell_type": "code",
   "execution_count": 63,
   "metadata": {},
   "outputs": [
    {
     "data": {
      "text/html": [
       "<div>\n",
       "<style scoped>\n",
       "    .dataframe tbody tr th:only-of-type {\n",
       "        vertical-align: middle;\n",
       "    }\n",
       "\n",
       "    .dataframe tbody tr th {\n",
       "        vertical-align: top;\n",
       "    }\n",
       "\n",
       "    .dataframe thead th {\n",
       "        text-align: right;\n",
       "    }\n",
       "</style>\n",
       "<table border=\"1\" class=\"dataframe\">\n",
       "  <thead>\n",
       "    <tr style=\"text-align: right;\">\n",
       "      <th></th>\n",
       "      <th>a_count</th>\n",
       "      <th>ab_count</th>\n",
       "      <th>b_count</th>\n",
       "      <th>bc_count</th>\n",
       "      <th>c_count</th>\n",
       "      <th>d_count</th>\n",
       "      <th>f_count</th>\n",
       "      <th>start_time</th>\n",
       "      <th>section_type</th>\n",
       "      <th>course_offering_uuid</th>\n",
       "      <th>section_number</th>\n",
       "      <th>name</th>\n",
       "      <th>total_count</th>\n",
       "    </tr>\n",
       "  </thead>\n",
       "  <tbody>\n",
       "    <tr>\n",
       "      <th>0</th>\n",
       "      <td>2</td>\n",
       "      <td>1</td>\n",
       "      <td>1</td>\n",
       "      <td>2</td>\n",
       "      <td>2</td>\n",
       "      <td>2</td>\n",
       "      <td>1</td>\n",
       "      <td>660</td>\n",
       "      <td>LEC</td>\n",
       "      <td>7f8ded97-695f-326e-97f1-a62293258178</td>\n",
       "      <td>1</td>\n",
       "      <td>Mathematics</td>\n",
       "      <td>11</td>\n",
       "    </tr>\n",
       "    <tr>\n",
       "      <th>1</th>\n",
       "      <td>2</td>\n",
       "      <td>1</td>\n",
       "      <td>4</td>\n",
       "      <td>1</td>\n",
       "      <td>3</td>\n",
       "      <td>1</td>\n",
       "      <td>0</td>\n",
       "      <td>800</td>\n",
       "      <td>LEC</td>\n",
       "      <td>7f8ded97-695f-326e-97f1-a62293258178</td>\n",
       "      <td>2</td>\n",
       "      <td>Mathematics</td>\n",
       "      <td>12</td>\n",
       "    </tr>\n",
       "    <tr>\n",
       "      <th>2</th>\n",
       "      <td>2</td>\n",
       "      <td>2</td>\n",
       "      <td>8</td>\n",
       "      <td>2</td>\n",
       "      <td>2</td>\n",
       "      <td>0</td>\n",
       "      <td>1</td>\n",
       "      <td>595</td>\n",
       "      <td>LEC</td>\n",
       "      <td>c9a679c5-8852-3cf7-94b2-917f5e749f58</td>\n",
       "      <td>1</td>\n",
       "      <td>Mathematics</td>\n",
       "      <td>17</td>\n",
       "    </tr>\n",
       "    <tr>\n",
       "      <th>3</th>\n",
       "      <td>3</td>\n",
       "      <td>1</td>\n",
       "      <td>0</td>\n",
       "      <td>4</td>\n",
       "      <td>5</td>\n",
       "      <td>0</td>\n",
       "      <td>2</td>\n",
       "      <td>800</td>\n",
       "      <td>LEC</td>\n",
       "      <td>c9a679c5-8852-3cf7-94b2-917f5e749f58</td>\n",
       "      <td>2</td>\n",
       "      <td>Mathematics</td>\n",
       "      <td>15</td>\n",
       "    </tr>\n",
       "    <tr>\n",
       "      <th>4</th>\n",
       "      <td>4</td>\n",
       "      <td>5</td>\n",
       "      <td>5</td>\n",
       "      <td>2</td>\n",
       "      <td>5</td>\n",
       "      <td>5</td>\n",
       "      <td>2</td>\n",
       "      <td>595</td>\n",
       "      <td>LEC</td>\n",
       "      <td>5144f795-9d64-3e39-949c-30b051952990</td>\n",
       "      <td>1</td>\n",
       "      <td>Mathematics</td>\n",
       "      <td>28</td>\n",
       "    </tr>\n",
       "  </tbody>\n",
       "</table>\n",
       "</div>"
      ],
      "text/plain": [
       "   a_count  ab_count  b_count  bc_count  c_count  d_count  f_count  \\\n",
       "0        2         1        1         2        2        2        1   \n",
       "1        2         1        4         1        3        1        0   \n",
       "2        2         2        8         2        2        0        1   \n",
       "3        3         1        0         4        5        0        2   \n",
       "4        4         5        5         2        5        5        2   \n",
       "\n",
       "   start_time section_type                  course_offering_uuid  \\\n",
       "0         660          LEC  7f8ded97-695f-326e-97f1-a62293258178   \n",
       "1         800          LEC  7f8ded97-695f-326e-97f1-a62293258178   \n",
       "2         595          LEC  c9a679c5-8852-3cf7-94b2-917f5e749f58   \n",
       "3         800          LEC  c9a679c5-8852-3cf7-94b2-917f5e749f58   \n",
       "4         595          LEC  5144f795-9d64-3e39-949c-30b051952990   \n",
       "\n",
       "   section_number         name  total_count  \n",
       "0               1  Mathematics           11  \n",
       "1               2  Mathematics           12  \n",
       "2               1  Mathematics           17  \n",
       "3               2  Mathematics           15  \n",
       "4               1  Mathematics           28  "
      ]
     },
     "execution_count": 63,
     "metadata": {},
     "output_type": "execute_result"
    }
   ],
   "source": [
    "cur.execute(group_and_as)\n",
    "df = pd.DataFrame(cur.fetchall())\n",
    "df.columns = [i[0] for i in cur.description]\n",
    "df['total_count'] = (df['a_count'] + df['ab_count'] + df['b_count'] + df['bc_count'] \n",
    "                     + df['c_count'] + df['d_count'] + df['f_count'])\n",
    "df.head()"
   ]
  },
  {
   "cell_type": "code",
   "execution_count": 64,
   "metadata": {},
   "outputs": [
    {
     "data": {
      "text/html": [
       "<div>\n",
       "<style scoped>\n",
       "    .dataframe tbody tr th:only-of-type {\n",
       "        vertical-align: middle;\n",
       "    }\n",
       "\n",
       "    .dataframe tbody tr th {\n",
       "        vertical-align: top;\n",
       "    }\n",
       "\n",
       "    .dataframe thead th {\n",
       "        text-align: right;\n",
       "    }\n",
       "</style>\n",
       "<table border=\"1\" class=\"dataframe\">\n",
       "  <thead>\n",
       "    <tr style=\"text-align: right;\">\n",
       "      <th></th>\n",
       "      <th>a_count</th>\n",
       "      <th>ab_count</th>\n",
       "      <th>b_count</th>\n",
       "      <th>bc_count</th>\n",
       "      <th>c_count</th>\n",
       "      <th>d_count</th>\n",
       "      <th>f_count</th>\n",
       "      <th>start_time</th>\n",
       "      <th>section_type</th>\n",
       "      <th>course_offering_uuid</th>\n",
       "      <th>section_number</th>\n",
       "      <th>name</th>\n",
       "      <th>total_count</th>\n",
       "    </tr>\n",
       "  </thead>\n",
       "  <tbody>\n",
       "    <tr>\n",
       "      <th>2693</th>\n",
       "      <td>0</td>\n",
       "      <td>0</td>\n",
       "      <td>0</td>\n",
       "      <td>0</td>\n",
       "      <td>0</td>\n",
       "      <td>0</td>\n",
       "      <td>0</td>\n",
       "      <td>-1</td>\n",
       "      <td>IND</td>\n",
       "      <td>6a4b556c-b75f-3193-a6bf-4d1a17d6e455</td>\n",
       "      <td>151</td>\n",
       "      <td>Mathematics</td>\n",
       "      <td>0</td>\n",
       "    </tr>\n",
       "    <tr>\n",
       "      <th>2279</th>\n",
       "      <td>0</td>\n",
       "      <td>0</td>\n",
       "      <td>0</td>\n",
       "      <td>0</td>\n",
       "      <td>0</td>\n",
       "      <td>0</td>\n",
       "      <td>0</td>\n",
       "      <td>-1</td>\n",
       "      <td>IND</td>\n",
       "      <td>7bb24528-611c-3c7f-8a54-ec2e324bf253</td>\n",
       "      <td>151</td>\n",
       "      <td>Mathematics</td>\n",
       "      <td>0</td>\n",
       "    </tr>\n",
       "    <tr>\n",
       "      <th>2902</th>\n",
       "      <td>0</td>\n",
       "      <td>0</td>\n",
       "      <td>0</td>\n",
       "      <td>0</td>\n",
       "      <td>0</td>\n",
       "      <td>0</td>\n",
       "      <td>0</td>\n",
       "      <td>-1</td>\n",
       "      <td>IND</td>\n",
       "      <td>f1c74879-6f15-323c-978c-8300d1a6f416</td>\n",
       "      <td>38</td>\n",
       "      <td>Mathematics</td>\n",
       "      <td>0</td>\n",
       "    </tr>\n",
       "    <tr>\n",
       "      <th>2901</th>\n",
       "      <td>0</td>\n",
       "      <td>0</td>\n",
       "      <td>0</td>\n",
       "      <td>0</td>\n",
       "      <td>0</td>\n",
       "      <td>0</td>\n",
       "      <td>0</td>\n",
       "      <td>-1</td>\n",
       "      <td>IND</td>\n",
       "      <td>e1a87993-1b59-363d-b34b-ff7c3c4146eb</td>\n",
       "      <td>66</td>\n",
       "      <td>Mathematics</td>\n",
       "      <td>0</td>\n",
       "    </tr>\n",
       "    <tr>\n",
       "      <th>2204</th>\n",
       "      <td>0</td>\n",
       "      <td>0</td>\n",
       "      <td>0</td>\n",
       "      <td>0</td>\n",
       "      <td>0</td>\n",
       "      <td>0</td>\n",
       "      <td>0</td>\n",
       "      <td>-1</td>\n",
       "      <td>IND</td>\n",
       "      <td>f89ae01f-ec59-3202-9129-7c40b3fa3d47</td>\n",
       "      <td>159</td>\n",
       "      <td>Mathematics</td>\n",
       "      <td>0</td>\n",
       "    </tr>\n",
       "  </tbody>\n",
       "</table>\n",
       "</div>"
      ],
      "text/plain": [
       "      a_count  ab_count  b_count  bc_count  c_count  d_count  f_count  \\\n",
       "2693        0         0        0         0        0        0        0   \n",
       "2279        0         0        0         0        0        0        0   \n",
       "2902        0         0        0         0        0        0        0   \n",
       "2901        0         0        0         0        0        0        0   \n",
       "2204        0         0        0         0        0        0        0   \n",
       "\n",
       "      start_time section_type                  course_offering_uuid  \\\n",
       "2693          -1          IND  6a4b556c-b75f-3193-a6bf-4d1a17d6e455   \n",
       "2279          -1          IND  7bb24528-611c-3c7f-8a54-ec2e324bf253   \n",
       "2902          -1          IND  f1c74879-6f15-323c-978c-8300d1a6f416   \n",
       "2901          -1          IND  e1a87993-1b59-363d-b34b-ff7c3c4146eb   \n",
       "2204          -1          IND  f89ae01f-ec59-3202-9129-7c40b3fa3d47   \n",
       "\n",
       "      section_number         name  total_count  \n",
       "2693             151  Mathematics            0  \n",
       "2279             151  Mathematics            0  \n",
       "2902              38  Mathematics            0  \n",
       "2901              66  Mathematics            0  \n",
       "2204             159  Mathematics            0  "
      ]
     },
     "execution_count": 64,
     "metadata": {},
     "output_type": "execute_result"
    }
   ],
   "source": [
    "df.sort_values(by='start_time').head()"
   ]
  },
  {
   "cell_type": "code",
   "execution_count": 65,
   "metadata": {},
   "outputs": [
    {
     "data": {
      "text/plain": [
       "LEC    2843\n",
       "SEM     112\n",
       "DIS      46\n",
       "Name: section_type, dtype: int64"
      ]
     },
     "execution_count": 65,
     "metadata": {},
     "output_type": "execute_result"
    }
   ],
   "source": [
    "df.loc[df['start_time'] != -1, 'section_type'].value_counts()"
   ]
  },
  {
   "cell_type": "markdown",
   "metadata": {},
   "source": [
    "All the independent studies are -1. As all these values are no use to our test (because we are interested in start time) we will drop all start_times of -1. We will also cut of irregular times (classes that start before 6AM) because these are potentially errors during input."
   ]
  },
  {
   "cell_type": "code",
   "execution_count": 66,
   "metadata": {},
   "outputs": [
    {
     "name": "stdout",
     "output_type": "stream",
     "text": [
      "<class 'pandas.core.frame.DataFrame'>\n",
      "Int64Index: 3001 entries, 0 to 3534\n",
      "Data columns (total 13 columns):\n",
      "a_count                 3001 non-null int64\n",
      "ab_count                3001 non-null int64\n",
      "b_count                 3001 non-null int64\n",
      "bc_count                3001 non-null int64\n",
      "c_count                 3001 non-null int64\n",
      "d_count                 3001 non-null int64\n",
      "f_count                 3001 non-null int64\n",
      "start_time              3001 non-null int64\n",
      "section_type            3001 non-null object\n",
      "course_offering_uuid    3001 non-null object\n",
      "section_number          3001 non-null int64\n",
      "name                    3001 non-null object\n",
      "total_count             3001 non-null int64\n",
      "dtypes: int64(10), object(3)\n",
      "memory usage: 328.2+ KB\n"
     ]
    }
   ],
   "source": [
    "df = df[df['start_time'] >= 360]\n",
    "df.info()"
   ]
  },
  {
   "cell_type": "code",
   "execution_count": 67,
   "metadata": {},
   "outputs": [
    {
     "data": {
      "text/html": [
       "<div>\n",
       "<style scoped>\n",
       "    .dataframe tbody tr th:only-of-type {\n",
       "        vertical-align: middle;\n",
       "    }\n",
       "\n",
       "    .dataframe tbody tr th {\n",
       "        vertical-align: top;\n",
       "    }\n",
       "\n",
       "    .dataframe thead th {\n",
       "        text-align: right;\n",
       "    }\n",
       "</style>\n",
       "<table border=\"1\" class=\"dataframe\">\n",
       "  <thead>\n",
       "    <tr style=\"text-align: right;\">\n",
       "      <th></th>\n",
       "      <th>a_count</th>\n",
       "      <th>ab_count</th>\n",
       "      <th>b_count</th>\n",
       "      <th>bc_count</th>\n",
       "      <th>c_count</th>\n",
       "      <th>d_count</th>\n",
       "      <th>f_count</th>\n",
       "      <th>start_time</th>\n",
       "      <th>section_type</th>\n",
       "      <th>course_offering_uuid</th>\n",
       "      <th>section_number</th>\n",
       "      <th>name</th>\n",
       "      <th>total_count</th>\n",
       "    </tr>\n",
       "  </thead>\n",
       "  <tbody>\n",
       "    <tr>\n",
       "      <th>699</th>\n",
       "      <td>0</td>\n",
       "      <td>0</td>\n",
       "      <td>0</td>\n",
       "      <td>0</td>\n",
       "      <td>0</td>\n",
       "      <td>0</td>\n",
       "      <td>0</td>\n",
       "      <td>595</td>\n",
       "      <td>LEC</td>\n",
       "      <td>2f65dd14-6217-38f6-8311-4fa0671ce06e</td>\n",
       "      <td>16</td>\n",
       "      <td>Mathematics</td>\n",
       "      <td>0</td>\n",
       "    </tr>\n",
       "    <tr>\n",
       "      <th>694</th>\n",
       "      <td>0</td>\n",
       "      <td>0</td>\n",
       "      <td>0</td>\n",
       "      <td>0</td>\n",
       "      <td>0</td>\n",
       "      <td>0</td>\n",
       "      <td>0</td>\n",
       "      <td>530</td>\n",
       "      <td>LEC</td>\n",
       "      <td>2f65dd14-6217-38f6-8311-4fa0671ce06e</td>\n",
       "      <td>15</td>\n",
       "      <td>Mathematics</td>\n",
       "      <td>0</td>\n",
       "    </tr>\n",
       "    <tr>\n",
       "      <th>693</th>\n",
       "      <td>0</td>\n",
       "      <td>0</td>\n",
       "      <td>0</td>\n",
       "      <td>0</td>\n",
       "      <td>0</td>\n",
       "      <td>0</td>\n",
       "      <td>0</td>\n",
       "      <td>530</td>\n",
       "      <td>LEC</td>\n",
       "      <td>2f65dd14-6217-38f6-8311-4fa0671ce06e</td>\n",
       "      <td>15</td>\n",
       "      <td>Mathematics</td>\n",
       "      <td>0</td>\n",
       "    </tr>\n",
       "    <tr>\n",
       "      <th>692</th>\n",
       "      <td>0</td>\n",
       "      <td>0</td>\n",
       "      <td>0</td>\n",
       "      <td>0</td>\n",
       "      <td>0</td>\n",
       "      <td>0</td>\n",
       "      <td>0</td>\n",
       "      <td>530</td>\n",
       "      <td>LEC</td>\n",
       "      <td>2f65dd14-6217-38f6-8311-4fa0671ce06e</td>\n",
       "      <td>15</td>\n",
       "      <td>Mathematics</td>\n",
       "      <td>0</td>\n",
       "    </tr>\n",
       "    <tr>\n",
       "      <th>3104</th>\n",
       "      <td>0</td>\n",
       "      <td>0</td>\n",
       "      <td>0</td>\n",
       "      <td>0</td>\n",
       "      <td>0</td>\n",
       "      <td>0</td>\n",
       "      <td>0</td>\n",
       "      <td>780</td>\n",
       "      <td>LEC</td>\n",
       "      <td>6160c73f-b0ec-3cb1-ac0d-6c3ae19651b3</td>\n",
       "      <td>1</td>\n",
       "      <td>Mathematics</td>\n",
       "      <td>0</td>\n",
       "    </tr>\n",
       "  </tbody>\n",
       "</table>\n",
       "</div>"
      ],
      "text/plain": [
       "      a_count  ab_count  b_count  bc_count  c_count  d_count  f_count  \\\n",
       "699         0         0        0         0        0        0        0   \n",
       "694         0         0        0         0        0        0        0   \n",
       "693         0         0        0         0        0        0        0   \n",
       "692         0         0        0         0        0        0        0   \n",
       "3104        0         0        0         0        0        0        0   \n",
       "\n",
       "      start_time section_type                  course_offering_uuid  \\\n",
       "699          595          LEC  2f65dd14-6217-38f6-8311-4fa0671ce06e   \n",
       "694          530          LEC  2f65dd14-6217-38f6-8311-4fa0671ce06e   \n",
       "693          530          LEC  2f65dd14-6217-38f6-8311-4fa0671ce06e   \n",
       "692          530          LEC  2f65dd14-6217-38f6-8311-4fa0671ce06e   \n",
       "3104         780          LEC  6160c73f-b0ec-3cb1-ac0d-6c3ae19651b3   \n",
       "\n",
       "      section_number         name  total_count  \n",
       "699               16  Mathematics            0  \n",
       "694               15  Mathematics            0  \n",
       "693               15  Mathematics            0  \n",
       "692               15  Mathematics            0  \n",
       "3104               1  Mathematics            0  "
      ]
     },
     "execution_count": 67,
     "metadata": {},
     "output_type": "execute_result"
    }
   ],
   "source": [
    "df.sort_values(by='total_count').head()"
   ]
  },
  {
   "cell_type": "markdown",
   "metadata": {},
   "source": [
    "There are still a number of classes that have no students. We want to drop these as it is not reflective of our study."
   ]
  },
  {
   "cell_type": "code",
   "execution_count": 68,
   "metadata": {},
   "outputs": [],
   "source": [
    "df = df[df['total_count'] != 0]"
   ]
  },
  {
   "cell_type": "code",
   "execution_count": null,
   "metadata": {},
   "outputs": [],
   "source": []
  },
  {
   "cell_type": "code",
   "execution_count": 69,
   "metadata": {},
   "outputs": [
    {
     "data": {
      "text/plain": [
       "22    125\n",
       "19    117\n",
       "20    117\n",
       "21    109\n",
       "17     98\n",
       "Name: total_count, dtype: int64"
      ]
     },
     "execution_count": 69,
     "metadata": {},
     "output_type": "execute_result"
    }
   ],
   "source": [
    "df['total_count'].value_counts().head()"
   ]
  },
  {
   "cell_type": "code",
   "execution_count": 70,
   "metadata": {},
   "outputs": [],
   "source": [
    "df2 = df.copy()"
   ]
  },
  {
   "cell_type": "code",
   "execution_count": 71,
   "metadata": {},
   "outputs": [],
   "source": [
    "df2['ratio_of_as'] = df['a_count'] / df['total_count']"
   ]
  },
  {
   "cell_type": "code",
   "execution_count": 72,
   "metadata": {},
   "outputs": [
    {
     "name": "stdout",
     "output_type": "stream",
     "text": [
      "<class 'pandas.core.frame.DataFrame'>\n",
      "Int64Index: 2869 entries, 0 to 3534\n",
      "Data columns (total 14 columns):\n",
      "a_count                 2869 non-null int64\n",
      "ab_count                2869 non-null int64\n",
      "b_count                 2869 non-null int64\n",
      "bc_count                2869 non-null int64\n",
      "c_count                 2869 non-null int64\n",
      "d_count                 2869 non-null int64\n",
      "f_count                 2869 non-null int64\n",
      "start_time              2869 non-null int64\n",
      "section_type            2869 non-null object\n",
      "course_offering_uuid    2869 non-null object\n",
      "section_number          2869 non-null int64\n",
      "name                    2869 non-null object\n",
      "total_count             2869 non-null int64\n",
      "ratio_of_as             2869 non-null float64\n",
      "dtypes: float64(1), int64(10), object(3)\n",
      "memory usage: 336.2+ KB\n"
     ]
    }
   ],
   "source": [
    "df2.info()"
   ]
  },
  {
   "cell_type": "code",
   "execution_count": 73,
   "metadata": {},
   "outputs": [
    {
     "data": {
      "text/plain": [
       "<seaborn.axisgrid.JointGrid at 0x1a226ff860>"
      ]
     },
     "execution_count": 73,
     "metadata": {},
     "output_type": "execute_result"
    },
    {
     "data": {
      "image/png": "[encoded data removed]",
      "text/plain": [
       "<Figure size 432x432 with 3 Axes>"
      ]
     },
     "metadata": {
      "needs_background": "light"
     },
     "output_type": "display_data"
    }
   ],
   "source": [
    "sns.jointplot('start_time', 'ratio_of_as',df2)"
   ]
  },
  {
   "cell_type": "code",
   "execution_count": 74,
   "metadata": {},
   "outputs": [
    {
     "name": "stdout",
     "output_type": "stream",
     "text": [
      "<class 'pandas.core.frame.DataFrame'>\n",
      "Int64Index: 2707 entries, 0 to 3534\n",
      "Data columns (total 14 columns):\n",
      "a_count                 2707 non-null int64\n",
      "ab_count                2707 non-null int64\n",
      "b_count                 2707 non-null int64\n",
      "bc_count                2707 non-null int64\n",
      "c_count                 2707 non-null int64\n",
      "d_count                 2707 non-null int64\n",
      "f_count                 2707 non-null int64\n",
      "start_time              2707 non-null int64\n",
      "section_type            2707 non-null object\n",
      "course_offering_uuid    2707 non-null object\n",
      "section_number          2707 non-null int64\n",
      "name                    2707 non-null object\n",
      "total_count             2707 non-null int64\n",
      "ratio_of_as             2707 non-null float64\n",
      "dtypes: float64(1), int64(10), object(3)\n",
      "memory usage: 317.2+ KB\n"
     ]
    }
   ],
   "source": [
    "df2.drop_duplicates(inplace=True)\n",
    "df2.info()"
   ]
  },
  {
   "cell_type": "code",
   "execution_count": 75,
   "metadata": {},
   "outputs": [
    {
     "data": {
      "text/plain": [
       "<seaborn.axisgrid.JointGrid at 0x1a23d3c400>"
      ]
     },
     "execution_count": 75,
     "metadata": {},
     "output_type": "execute_result"
    },
    {
     "data": {
      "image/png": "[encoded data removed]",
      "text/plain": [
       "<Figure size 432x432 with 3 Axes>"
      ]
     },
     "metadata": {
      "needs_background": "light"
     },
     "output_type": "display_data"
    }
   ],
   "source": [
    "sns.jointplot('start_time', 'ratio_of_as',df2)"
   ]
  },
  {
   "cell_type": "code",
   "execution_count": 76,
   "metadata": {},
   "outputs": [
    {
     "data": {
      "text/plain": [
       "LEC    2629\n",
       "DIS      46\n",
       "SEM      32\n",
       "Name: section_type, dtype: int64"
      ]
     },
     "execution_count": 76,
     "metadata": {},
     "output_type": "execute_result"
    }
   ],
   "source": [
    "df2['section_type'].value_counts()"
   ]
  },
  {
   "cell_type": "code",
   "execution_count": 80,
   "metadata": {},
   "outputs": [],
   "source": [
    "morning_df = df2.loc[df2['start_time'] < 720]\n",
    "afternoon_df = df2.loc[df2['start_time'] >= 720]"
   ]
  },
  {
   "cell_type": "code",
   "execution_count": 81,
   "metadata": {},
   "outputs": [
    {
     "name": "stdout",
     "output_type": "stream",
     "text": [
      "<class 'pandas.core.frame.DataFrame'>\n",
      "Int64Index: 1493 entries, 0 to 3532\n",
      "Data columns (total 14 columns):\n",
      "a_count                 1493 non-null int64\n",
      "ab_count                1493 non-null int64\n",
      "b_count                 1493 non-null int64\n",
      "bc_count                1493 non-null int64\n",
      "c_count                 1493 non-null int64\n",
      "d_count                 1493 non-null int64\n",
      "f_count                 1493 non-null int64\n",
      "start_time              1493 non-null int64\n",
      "section_type            1493 non-null object\n",
      "course_offering_uuid    1493 non-null object\n",
      "section_number          1493 non-null int64\n",
      "name                    1493 non-null object\n",
      "total_count             1493 non-null int64\n",
      "ratio_of_as             1493 non-null float64\n",
      "dtypes: float64(1), int64(10), object(3)\n",
      "memory usage: 175.0+ KB\n"
     ]
    }
   ],
   "source": [
    "morning_df.info()"
   ]
  },
  {
   "cell_type": "code",
   "execution_count": 82,
   "metadata": {},
   "outputs": [
    {
     "name": "stdout",
     "output_type": "stream",
     "text": [
      "<class 'pandas.core.frame.DataFrame'>\n",
      "Int64Index: 1214 entries, 1 to 3534\n",
      "Data columns (total 14 columns):\n",
      "a_count                 1214 non-null int64\n",
      "ab_count                1214 non-null int64\n",
      "b_count                 1214 non-null int64\n",
      "bc_count                1214 non-null int64\n",
      "c_count                 1214 non-null int64\n",
      "d_count                 1214 non-null int64\n",
      "f_count                 1214 non-null int64\n",
      "start_time              1214 non-null int64\n",
      "section_type            1214 non-null object\n",
      "course_offering_uuid    1214 non-null object\n",
      "section_number          1214 non-null int64\n",
      "name                    1214 non-null object\n",
      "total_count             1214 non-null int64\n",
      "ratio_of_as             1214 non-null float64\n",
      "dtypes: float64(1), int64(10), object(3)\n",
      "memory usage: 142.3+ KB\n"
     ]
    }
   ],
   "source": [
    "afternoon_df.info()"
   ]
  },
  {
   "cell_type": "code",
   "execution_count": 84,
   "metadata": {},
   "outputs": [
    {
     "data": {
      "text/plain": [
       "<seaborn.axisgrid.JointGrid at 0x1a24be38d0>"
      ]
     },
     "execution_count": 84,
     "metadata": {},
     "output_type": "execute_result"
    },
    {
     "data": {
      "image/png": "[encoded data removed]",
      "text/plain": [
       "<Figure size 432x432 with 3 Axes>"
      ]
     },
     "metadata": {
      "needs_background": "light"
     },
     "output_type": "display_data"
    }
   ],
   "source": [
    "sns.jointplot('start_time', 'ratio_of_as',morning_df,kind='hex')"
   ]
  },
  {
   "cell_type": "code",
   "execution_count": 87,
   "metadata": {},
   "outputs": [
    {
     "data": {
      "image/png": "[encoded data removed]",
      "text/plain": [
       "<Figure size 432x432 with 3 Axes>"
      ]
     },
     "metadata": {
      "needs_background": "light"
     },
     "output_type": "display_data"
    }
   ],
   "source": [
    "sns.jointplot('start_time', 'ratio_of_as',afternoon_df,kind='hex');"
   ]
  },
  {
   "cell_type": "markdown",
   "metadata": {},
   "source": [
    "# Determine Sample Size"
   ]
  },
  {
   "cell_type": "code",
   "execution_count": 88,
   "metadata": {},
   "outputs": [],
   "source": [
    "moe = 0.1\n",
    "z = 1.96 # z value for alpha 0.05\n",
    "morn_var = np.var(morning_df['ratio_of_as'])\n",
    "morn_n = len(morning_df['ratio_of_as'])\n",
    "aft_var = np.var(afternoon_df['ratio_of_as'])\n",
    "aft_n = len(afternoon_df['ratio_of_as'])\n",
    "\n",
    "num = (morn_n - 1) * morn_var + (aft_n - 1) * aft_var\n",
    "den = morn_n + aft_n - 2\n",
    "pooled_std = np.sqrt(num/den)"
   ]
  },
  {
   "cell_type": "code",
   "execution_count": 89,
   "metadata": {},
   "outputs": [
    {
     "data": {
      "text/plain": [
       "56.79518373077116"
      ]
     },
     "execution_count": 89,
     "metadata": {},
     "output_type": "execute_result"
    }
   ],
   "source": [
    "n = 2 * (z * pooled_std / moe)**2\n",
    "n"
   ]
  },
  {
   "cell_type": "markdown",
   "metadata": {},
   "source": [
    "We will use samples from morning and afternoon of size 68."
   ]
  },
  {
   "cell_type": "code",
   "execution_count": 97,
   "metadata": {},
   "outputs": [],
   "source": [
    "np.random.seed(20)\n",
    "\n",
    "morning = morning_df['ratio_of_as']\n",
    "afternoon = afternoon_df['ratio_of_as']\n",
    "\n",
    "morning_sample = np.random.choice(morning, size=57)\n",
    "afternoon_sample = np.random.choice(afternoon, size=57)"
   ]
  },
  {
   "cell_type": "code",
   "execution_count": 98,
   "metadata": {},
   "outputs": [
    {
     "data": {
      "text/plain": [
       "Ttest_indResult(statistic=-0.8321751863485252, pvalue=0.40708093502863274)"
      ]
     },
     "execution_count": 98,
     "metadata": {},
     "output_type": "execute_result"
    }
   ],
   "source": [
    "stats.ttest_ind(morning_sample, afternoon_sample)"
   ]
  },
  {
   "cell_type": "markdown",
   "metadata": {},
   "source": [
    "Our p-value is about 0.407 which is greater than our alpha of 0.05. This means that we cannot reject the null hypothesis. Even when we look only at math classes we still cannot say that there is a statistical difference in the ratio of A's of a class depending on if the class is before or after noon. \n",
    "\n",
    "If we want to improve our schedules to increase the percentage of A's we will need to look at other factors."
   ]
  },
  {
   "cell_type": "code",
   "execution_count": null,
   "metadata": {},
   "outputs": [],
   "source": []
  }
 ],
 "metadata": {
  "kernelspec": {
   "display_name": "learn-env",
   "language": "python",
   "name": "learn-env"
  },
  "language_info": {
   "codemirror_mode": {
    "name": "ipython",
    "version": 3
   },
   "file_extension": ".py",
   "mimetype": "text/x-python",
   "name": "python",
   "nbconvert_exporter": "python",
   "pygments_lexer": "ipython3",
   "version": "3.6.6"
  }
 },
 "nbformat": 4,
 "nbformat_minor": 2
}
